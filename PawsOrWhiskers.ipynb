{
  "cells": [
    {
      "cell_type": "code",
      "execution_count": 1,
      "metadata": {
        "id": "Bcc6tWKsjmyI"
      },
      "outputs": [],
      "source": [
        "import numpy as np\n",
        "import pandas as pd\n",
        "from tensorflow import keras\n",
        "from keras import Sequential\n",
        "import matplotlib.pyplot as plt\n"
      ]
    },
    {
      "cell_type": "code",
      "execution_count": 2,
      "metadata": {
        "id": "eX6sd6MgXxJa"
      },
      "outputs": [],
      "source": [
        "import os\n",
        "import random\n",
        "from tqdm import tqdm"
      ]
    },
    {
      "cell_type": "code",
      "execution_count": 3,
      "metadata": {
        "id": "UDlBLZLf5BcG"
      },
      "outputs": [],
      "source": [
        "from tensorflow.keras.layers import Conv2D, MaxPooling2D, Dense, Flatten\n",
        "# fc layers are called Dense in keras; flatten multidim vector to single dim vector"
      ]
    },
    {
      "cell_type": "markdown",
      "metadata": {
        "id": "SnXxhdQjGrP0"
      },
      "source": [
        "## LOADING THE DATASET\n",
        "(1000 CAT IMGS & 1000 DOG IMGS)"
      ]
    },
    {
      "cell_type": "code",
      "execution_count": 4,
      "metadata": {
        "colab": {
          "base_uri": "https://localhost:8080/",
          "height": 73
        },
        "id": "OZi5QqyxjPlo",
        "outputId": "e2e145b2-6ad8-426f-a982-635dbc5eff8e"
      },
      "outputs": [
        {
          "data": {
            "text/html": [
              "\n",
              "     <input type=\"file\" id=\"files-730778e8-b899-4b40-aca2-fd25c574543e\" name=\"files[]\" multiple disabled\n",
              "        style=\"border:none\" />\n",
              "     <output id=\"result-730778e8-b899-4b40-aca2-fd25c574543e\">\n",
              "      Upload widget is only available when the cell has been executed in the\n",
              "      current browser session. Please rerun this cell to enable.\n",
              "      </output>\n",
              "      <script>// Copyright 2017 Google LLC\n",
              "//\n",
              "// Licensed under the Apache License, Version 2.0 (the \"License\");\n",
              "// you may not use this file except in compliance with the License.\n",
              "// You may obtain a copy of the License at\n",
              "//\n",
              "//      http://www.apache.org/licenses/LICENSE-2.0\n",
              "//\n",
              "// Unless required by applicable law or agreed to in writing, software\n",
              "// distributed under the License is distributed on an \"AS IS\" BASIS,\n",
              "// WITHOUT WARRANTIES OR CONDITIONS OF ANY KIND, either express or implied.\n",
              "// See the License for the specific language governing permissions and\n",
              "// limitations under the License.\n",
              "\n",
              "/**\n",
              " * @fileoverview Helpers for google.colab Python module.\n",
              " */\n",
              "(function(scope) {\n",
              "function span(text, styleAttributes = {}) {\n",
              "  const element = document.createElement('span');\n",
              "  element.textContent = text;\n",
              "  for (const key of Object.keys(styleAttributes)) {\n",
              "    element.style[key] = styleAttributes[key];\n",
              "  }\n",
              "  return element;\n",
              "}\n",
              "\n",
              "// Max number of bytes which will be uploaded at a time.\n",
              "const MAX_PAYLOAD_SIZE = 100 * 1024;\n",
              "\n",
              "function _uploadFiles(inputId, outputId) {\n",
              "  const steps = uploadFilesStep(inputId, outputId);\n",
              "  const outputElement = document.getElementById(outputId);\n",
              "  // Cache steps on the outputElement to make it available for the next call\n",
              "  // to uploadFilesContinue from Python.\n",
              "  outputElement.steps = steps;\n",
              "\n",
              "  return _uploadFilesContinue(outputId);\n",
              "}\n",
              "\n",
              "// This is roughly an async generator (not supported in the browser yet),\n",
              "// where there are multiple asynchronous steps and the Python side is going\n",
              "// to poll for completion of each step.\n",
              "// This uses a Promise to block the python side on completion of each step,\n",
              "// then passes the result of the previous step as the input to the next step.\n",
              "function _uploadFilesContinue(outputId) {\n",
              "  const outputElement = document.getElementById(outputId);\n",
              "  const steps = outputElement.steps;\n",
              "\n",
              "  const next = steps.next(outputElement.lastPromiseValue);\n",
              "  return Promise.resolve(next.value.promise).then((value) => {\n",
              "    // Cache the last promise value to make it available to the next\n",
              "    // step of the generator.\n",
              "    outputElement.lastPromiseValue = value;\n",
              "    return next.value.response;\n",
              "  });\n",
              "}\n",
              "\n",
              "/**\n",
              " * Generator function which is called between each async step of the upload\n",
              " * process.\n",
              " * @param {string} inputId Element ID of the input file picker element.\n",
              " * @param {string} outputId Element ID of the output display.\n",
              " * @return {!Iterable<!Object>} Iterable of next steps.\n",
              " */\n",
              "function* uploadFilesStep(inputId, outputId) {\n",
              "  const inputElement = document.getElementById(inputId);\n",
              "  inputElement.disabled = false;\n",
              "\n",
              "  const outputElement = document.getElementById(outputId);\n",
              "  outputElement.innerHTML = '';\n",
              "\n",
              "  const pickedPromise = new Promise((resolve) => {\n",
              "    inputElement.addEventListener('change', (e) => {\n",
              "      resolve(e.target.files);\n",
              "    });\n",
              "  });\n",
              "\n",
              "  const cancel = document.createElement('button');\n",
              "  inputElement.parentElement.appendChild(cancel);\n",
              "  cancel.textContent = 'Cancel upload';\n",
              "  const cancelPromise = new Promise((resolve) => {\n",
              "    cancel.onclick = () => {\n",
              "      resolve(null);\n",
              "    };\n",
              "  });\n",
              "\n",
              "  // Wait for the user to pick the files.\n",
              "  const files = yield {\n",
              "    promise: Promise.race([pickedPromise, cancelPromise]),\n",
              "    response: {\n",
              "      action: 'starting',\n",
              "    }\n",
              "  };\n",
              "\n",
              "  cancel.remove();\n",
              "\n",
              "  // Disable the input element since further picks are not allowed.\n",
              "  inputElement.disabled = true;\n",
              "\n",
              "  if (!files) {\n",
              "    return {\n",
              "      response: {\n",
              "        action: 'complete',\n",
              "      }\n",
              "    };\n",
              "  }\n",
              "\n",
              "  for (const file of files) {\n",
              "    const li = document.createElement('li');\n",
              "    li.append(span(file.name, {fontWeight: 'bold'}));\n",
              "    li.append(span(\n",
              "        `(${file.type || 'n/a'}) - ${file.size} bytes, ` +\n",
              "        `last modified: ${\n",
              "            file.lastModifiedDate ? file.lastModifiedDate.toLocaleDateString() :\n",
              "                                    'n/a'} - `));\n",
              "    const percent = span('0% done');\n",
              "    li.appendChild(percent);\n",
              "\n",
              "    outputElement.appendChild(li);\n",
              "\n",
              "    const fileDataPromise = new Promise((resolve) => {\n",
              "      const reader = new FileReader();\n",
              "      reader.onload = (e) => {\n",
              "        resolve(e.target.result);\n",
              "      };\n",
              "      reader.readAsArrayBuffer(file);\n",
              "    });\n",
              "    // Wait for the data to be ready.\n",
              "    let fileData = yield {\n",
              "      promise: fileDataPromise,\n",
              "      response: {\n",
              "        action: 'continue',\n",
              "      }\n",
              "    };\n",
              "\n",
              "    // Use a chunked sending to avoid message size limits. See b/62115660.\n",
              "    let position = 0;\n",
              "    do {\n",
              "      const length = Math.min(fileData.byteLength - position, MAX_PAYLOAD_SIZE);\n",
              "      const chunk = new Uint8Array(fileData, position, length);\n",
              "      position += length;\n",
              "\n",
              "      const base64 = btoa(String.fromCharCode.apply(null, chunk));\n",
              "      yield {\n",
              "        response: {\n",
              "          action: 'append',\n",
              "          file: file.name,\n",
              "          data: base64,\n",
              "        },\n",
              "      };\n",
              "\n",
              "      let percentDone = fileData.byteLength === 0 ?\n",
              "          100 :\n",
              "          Math.round((position / fileData.byteLength) * 100);\n",
              "      percent.textContent = `${percentDone}% done`;\n",
              "\n",
              "    } while (position < fileData.byteLength);\n",
              "  }\n",
              "\n",
              "  // All done.\n",
              "  yield {\n",
              "    response: {\n",
              "      action: 'complete',\n",
              "    }\n",
              "  };\n",
              "}\n",
              "\n",
              "scope.google = scope.google || {};\n",
              "scope.google.colab = scope.google.colab || {};\n",
              "scope.google.colab._files = {\n",
              "  _uploadFiles,\n",
              "  _uploadFilesContinue,\n",
              "};\n",
              "})(self);\n",
              "</script> "
            ],
            "text/plain": [
              "<IPython.core.display.HTML object>"
            ]
          },
          "metadata": {},
          "output_type": "display_data"
        },
        {
          "name": "stdout",
          "output_type": "stream",
          "text": [
            "Saving kaggle.json to kaggle.json\n"
          ]
        }
      ],
      "source": [
        "from google.colab import files\n",
        "uploaded = files.upload()"
      ]
    },
    {
      "cell_type": "code",
      "execution_count": 5,
      "metadata": {
        "id": "6YHJPNMzkpuP"
      },
      "outputs": [],
      "source": [
        "!mkdir -p ~/.kaggle\n",
        "!cp kaggle.json ~/.kaggle\n",
        "!chmod 600 ~/.kaggle/kaggle.json"
      ]
    },
    {
      "cell_type": "code",
      "execution_count": 6,
      "metadata": {
        "colab": {
          "base_uri": "https://localhost:8080/"
        },
        "id": "TyJvYdO3k0u1",
        "outputId": "808fd770-b815-4787-bb4f-e3bca172286a"
      },
      "outputs": [
        {
          "name": "stdout",
          "output_type": "stream",
          "text": [
            "Dataset URL: https://www.kaggle.com/datasets/bhavikjikadara/dog-and-cat-classification-dataset\n",
            "License(s): apache-2.0\n"
          ]
        }
      ],
      "source": [
        "!kaggle datasets download -d bhavikjikadara/dog-and-cat-classification-dataset"
      ]
    },
    {
      "cell_type": "code",
      "execution_count": 7,
      "metadata": {
        "id": "qK_oxg2Cl7Qi"
      },
      "outputs": [],
      "source": [
        "!unzip -q dog-and-cat-classification-dataset.zip -d ./data\n"
      ]
    },
    {
      "cell_type": "code",
      "execution_count": 8,
      "metadata": {
        "colab": {
          "base_uri": "https://localhost:8080/"
        },
        "id": "nAjt19EgmCDu",
        "outputId": "b56f4d33-2b0a-4246-e671-aa01c0ed02e9"
      },
      "outputs": [
        {
          "name": "stdout",
          "output_type": "stream",
          "text": [
            "./data\n",
            "./data/PetImages\n"
          ]
        }
      ],
      "source": [
        "import os\n",
        "\n",
        "for root, dirs, files in os.walk('./data'):\n",
        "    print(root)\n",
        "    if 'Cat' in dirs or 'Dog' in dirs:\n",
        "        break\n"
      ]
    },
    {
      "cell_type": "code",
      "execution_count": 9,
      "metadata": {
        "colab": {
          "base_uri": "https://localhost:8080/"
        },
        "id": "coYxgAtDmQxl",
        "outputId": "d0f242c7-ee27-4b31-8f36-5dc91d097103"
      },
      "outputs": [
        {
          "name": "stderr",
          "output_type": "stream",
          "text": [
            "Loading ./data/PetImages/Cat:   8%|▊         | 1003/12499 [00:01<00:16, 708.94it/s]\n"
          ]
        },
        {
          "name": "stdout",
          "output_type": "stream",
          "text": [
            "✅ Loaded 1000 images from ./data/PetImages/Cat\n"
          ]
        },
        {
          "name": "stderr",
          "output_type": "stream",
          "text": [
            "Loading ./data/PetImages/Dog:   8%|▊         | 1001/12499 [00:01<00:16, 680.31it/s]\n"
          ]
        },
        {
          "name": "stdout",
          "output_type": "stream",
          "text": [
            "✅ Loaded 1000 images from ./data/PetImages/Dog\n"
          ]
        },
        {
          "name": "stderr",
          "output_type": "stream",
          "text": [
            "Loading ./data/PetImages/Cat:   2%|▏         | 200/12499 [00:00<00:16, 724.88it/s]\n"
          ]
        },
        {
          "name": "stdout",
          "output_type": "stream",
          "text": [
            "✅ Loaded 200 images from ./data/PetImages/Cat\n"
          ]
        },
        {
          "name": "stderr",
          "output_type": "stream",
          "text": [
            "Loading ./data/PetImages/Dog:   2%|▏         | 200/12499 [00:00<00:17, 689.10it/s]\n"
          ]
        },
        {
          "name": "stdout",
          "output_type": "stream",
          "text": [
            "✅ Loaded 200 images from ./data/PetImages/Dog\n",
            "✅ Shapes:\n",
            "X_train: (2000, 100, 100, 3)\n",
            "Y_train: (2000, 1)\n",
            "X_test: (400, 100, 100, 3)\n",
            "Y_test: (400, 1)\n"
          ]
        }
      ],
      "source": [
        "\n",
        "import cv2\n",
        "# Define paths\n",
        "cat_dir = \"./data/PetImages/Cat\"\n",
        "dog_dir = \"./data/PetImages/Dog\"\n",
        "\n",
        "# Helper function to load valid images\n",
        "def load_images(folder, label, count):\n",
        "    images = []\n",
        "    labels = []\n",
        "    files = [f for f in os.listdir(folder) if f.endswith('.jpg')]\n",
        "    random.shuffle(files)\n",
        "    loaded = 0\n",
        "\n",
        "    for img_name in tqdm(files, desc=f\"Loading {folder}\"):\n",
        "        if loaded >= count:\n",
        "            break\n",
        "        img_path = os.path.join(folder, img_name)\n",
        "        img = cv2.imread(img_path)\n",
        "        if img is not None and len(img.shape) == 3:  # RGB check\n",
        "            images.append(img)\n",
        "            labels.append(label)\n",
        "            loaded += 1\n",
        "    print(f\"✅ Loaded {loaded} images from {folder}\")\n",
        "    return images, labels\n",
        "\n",
        "# Load 1000 for training, 200 for testing per class\n",
        "cat_train_imgs, cat_train_labels = load_images(cat_dir, 0, 1000)\n",
        "dog_train_imgs, dog_train_labels = load_images(dog_dir, 1, 1000)\n",
        "cat_test_imgs, cat_test_labels = load_images(cat_dir, 0, 200)\n",
        "dog_test_imgs, dog_test_labels = load_images(dog_dir, 1, 200)\n",
        "\n",
        "# Combine and resize to (100, 100)\n",
        "def preprocess(images):\n",
        "    return [cv2.resize(img, (100, 100)) for img in images]\n",
        "\n",
        "X_train = np.array(preprocess(cat_train_imgs + dog_train_imgs))\n",
        "Y_train = np.array(cat_train_labels + dog_train_labels).reshape(-1, 1)\n",
        "\n",
        "X_test = np.array(preprocess(cat_test_imgs + dog_test_imgs))\n",
        "Y_test = np.array(cat_test_labels + dog_test_labels).reshape(-1, 1)\n",
        "\n",
        "print(\"✅ Shapes:\")\n",
        "print(\"X_train:\", X_train.shape)\n",
        "print(\"Y_train:\", Y_train.shape)\n",
        "print(\"X_test:\", X_test.shape)\n",
        "print(\"Y_test:\", Y_test.shape)\n"
      ]
    },
    {
      "cell_type": "markdown",
      "metadata": {
        "id": "qWOgbU5QocNd"
      },
      "source": [
        "img pixel values range from 0 to 255 but for training we need to normalise them."
      ]
    },
    {
      "cell_type": "code",
      "execution_count": 10,
      "metadata": {
        "id": "AtRt2_ewoZib"
      },
      "outputs": [],
      "source": [
        "X_train = X_train/255.0\n",
        "X_test = X_test/255.0"
      ]
    },
    {
      "cell_type": "code",
      "execution_count": 11,
      "metadata": {
        "colab": {
          "base_uri": "https://localhost:8080/",
          "height": 433
        },
        "id": "UH-SsT66o3HX",
        "outputId": "b3e07d8b-eaca-4d41-f733-68c1650a6c32"
      },
      "outputs": [
        {
          "data": {
            "image/png": "[encoded data removed]",
            "text/plain": [
              "<Figure size 640x480 with 1 Axes>"
            ]
          },
          "metadata": {},
          "output_type": "display_data"
        }
      ],
      "source": [
        "idx = random.randint(0, len(X_train))\n",
        "plt.imshow(X_train[idx, :])\n",
        "plt.show()"
      ]
    },
    {
      "cell_type": "code",
      "execution_count": 12,
      "metadata": {
        "colab": {
          "base_uri": "https://localhost:8080/"
        },
        "id": "DMCE75GDRA2p",
        "outputId": "575da497-962d-4495-87e0-e3cd800ab4f2"
      },
      "outputs": [
        {
          "name": "stderr",
          "output_type": "stream",
          "text": [
            "/usr/local/lib/python3.11/dist-packages/keras/src/layers/convolutional/base_conv.py:107: UserWarning: Do not pass an `input_shape`/`input_dim` argument to a layer. When using Sequential models, prefer using an `Input(shape)` object as the first layer in the model instead.\n",
            "  super().__init__(activity_regularizer=activity_regularizer, **kwargs)\n"
          ]
        }
      ],
      "source": [
        "model = Sequential([\n",
        "    Conv2D(32, (3,3), activation = 'relu', input_shape = (100,100,3)), # for 1st layer, we hv mentioned no. of filters, size of each, act fn, ip shape for 1st layer\n",
        "    MaxPooling2D((2,2)), #stride is taken by default\n",
        "    Conv2D(32, (3,3), activation = 'relu'),\n",
        "    MaxPooling2D((2,2)),\n",
        "    Flatten(),\n",
        "    Dense(64, activation = 'relu'), #Dense = fc layer; 1st fc layer w/ 64 neurons\n",
        "    Dense(1, activation = 'sigmoid'), #final fc layer/output layer; shld hv same no. of neurons as op class\n",
        "    #since it's binary classification there'll be only 1 neuron and act fn is sigmoid\n",
        "])"
      ]
    },
    {
      "cell_type": "code",
      "execution_count": 13,
      "metadata": {
        "id": "E1CH_kJWpluL"
      },
      "outputs": [],
      "source": [
        "# another way of defining the model\n",
        "model = Sequential()\n",
        "model.add(Conv2D(32, (3,3), activation = 'relu', input_shape = (100,100,3)))\n",
        "model.add(MaxPooling2D((2,2)))\n",
        "model.add(Conv2D(32, (3,3), activation = 'relu'))\n",
        "model.add( MaxPooling2D((2,2)))\n",
        "model.add(Flatten())\n",
        "model.add(Dense(64, activation = 'relu'))\n",
        "model.add(Dense(1, activation = 'sigmoid'))"
      ]
    },
    {
      "cell_type": "code",
      "execution_count": 14,
      "metadata": {
        "id": "1e0uukYnplsa"
      },
      "outputs": [],
      "source": [
        "# model will be compiled by adding backprop and loss fn\n",
        "model.compile(loss='binary_crossentropy', optimizer = 'adam', metrics = ['accuracy']) # metrics specifies the metric on which we'll be evaluating our model"
      ]
    },
    {
      "cell_type": "markdown",
      "metadata": {
        "id": "3xz4zF3DnkNp"
      },
      "source": [
        "another way to specify optimiser is:\n",
        "opt = keras.optimizers.SGD(learning_rate = 0.001)\n",
        "\n",
        "there can b different types of optimisers, their hyperparameters and loss fns\n"
      ]
    },
    {
      "cell_type": "markdown",
      "metadata": {
        "id": "X17aHqpmodCG"
      },
      "source": [
        "now we need to fit training data into our model"
      ]
    },
    {
      "cell_type": "markdown",
      "metadata": {
        "id": "CBTMOgL9o8_x"
      },
      "source": [
        "if model is not compiled, running below cell again would resume training frm where it left. But since it's compiled it will restart training."
      ]
    },
    {
      "cell_type": "code",
      "execution_count": 16,
      "metadata": {
        "colab": {
          "base_uri": "https://localhost:8080/"
        },
        "id": "3SfNom3Mnjl5",
        "outputId": "92b21628-65f7-4679-9f99-badf6e88cb04"
      },
      "outputs": [
        {
          "name": "stdout",
          "output_type": "stream",
          "text": [
            "Epoch 1/5\n",
            "\u001b[1m32/32\u001b[0m \u001b[32m━━━━━━━━━━━━━━━━━━━━\u001b[0m\u001b[37m\u001b[0m \u001b[1m21s\u001b[0m 641ms/step - accuracy: 0.8441 - loss: 0.3762\n",
            "Epoch 2/5\n",
            "\u001b[1m32/32\u001b[0m \u001b[32m━━━━━━━━━━━━━━━━━━━━\u001b[0m\u001b[37m\u001b[0m \u001b[1m39s\u001b[0m 602ms/step - accuracy: 0.8699 - loss: 0.3072\n",
            "Epoch 3/5\n",
            "\u001b[1m32/32\u001b[0m \u001b[32m━━━━━━━━━━━━━━━━━━━━\u001b[0m\u001b[37m\u001b[0m \u001b[1m22s\u001b[0m 641ms/step - accuracy: 0.9046 - loss: 0.2555\n",
            "Epoch 4/5\n",
            "\u001b[1m32/32\u001b[0m \u001b[32m━━━━━━━━━━━━━━━━━━━━\u001b[0m\u001b[37m\u001b[0m \u001b[1m40s\u001b[0m 604ms/step - accuracy: 0.9402 - loss: 0.1879\n",
            "Epoch 5/5\n",
            "\u001b[1m32/32\u001b[0m \u001b[32m━━━━━━━━━━━━━━━━━━━━\u001b[0m\u001b[37m\u001b[0m \u001b[1m22s\u001b[0m 638ms/step - accuracy: 0.9465 - loss: 0.1606\n"
          ]
        },
        {
          "data": {
            "text/plain": [
              "<keras.src.callbacks.history.History at 0x7e2271cc4190>"
            ]
          },
          "execution_count": 16,
          "metadata": {},
          "output_type": "execute_result"
        }
      ],
      "source": [
        " model.fit(X_train,Y_train, epochs = 5, batch_size=64)"
      ]
    },
    {
      "cell_type": "code",
      "execution_count": 17,
      "metadata": {
        "colab": {
          "base_uri": "https://localhost:8080/"
        },
        "id": "jF5c7GNXplrI",
        "outputId": "48929fa8-59c3-433a-e674-8cd6c94ce9e2"
      },
      "outputs": [
        {
          "name": "stdout",
          "output_type": "stream",
          "text": [
            "\u001b[1m13/13\u001b[0m \u001b[32m━━━━━━━━━━━━━━━━━━━━\u001b[0m\u001b[37m\u001b[0m \u001b[1m1s\u001b[0m 80ms/step - accuracy: 0.7723 - loss: 0.6537\n"
          ]
        },
        {
          "data": {
            "text/plain": [
              "[0.6743576526641846, 0.7450000047683716]"
            ]
          },
          "execution_count": 17,
          "metadata": {},
          "output_type": "execute_result"
        }
      ],
      "source": [
        "model.evaluate(X_test, Y_test)"
      ]
    },
    {
      "cell_type": "markdown",
      "metadata": {
        "id": "Ys3uzvRqtX53"
      },
      "source": [
        "## MAKING PREDICTIONS"
      ]
    },
    {
      "cell_type": "code",
      "execution_count": 20,
      "metadata": {
        "colab": {
          "base_uri": "https://localhost:8080/",
          "height": 468
        },
        "id": "joob1LbapllC",
        "outputId": "a0f1c6da-ad74-40b7-cb3c-fb28cd215fd7"
      },
      "outputs": [
        {
          "data": {
            "image/png": "[encoded data removed]",
            "text/plain": [
              "<Figure size 640x480 with 1 Axes>"
            ]
          },
          "metadata": {},
          "output_type": "display_data"
        },
        {
          "name": "stdout",
          "output_type": "stream",
          "text": [
            "\u001b[1m1/1\u001b[0m \u001b[32m━━━━━━━━━━━━━━━━━━━━\u001b[0m\u001b[37m\u001b[0m \u001b[1m0s\u001b[0m 40ms/step\n",
            "this is a  dog\n"
          ]
        }
      ],
      "source": [
        "idx2 = random.randint(0, len(Y_test))\n",
        "plt.imshow(X_test[idx2, :])\n",
        "plt.show()\n",
        "\n",
        "y_pred = model.predict(X_test[idx2, :].reshape(1,100,100,3))\n",
        "y_pred=y_pred>0.5\n",
        "\n",
        "if(y_pred == 0):\n",
        "  pred = 'cat'\n",
        "else:\n",
        "  pred = 'dog'\n",
        "\n",
        "print(\"this is a \",pred)"
      ]
    }
  ],
  "metadata": {
    "colab": {
      "provenance": []
    },
    "kernelspec": {
      "display_name": "Python 3",
      "name": "python3"
    },
    "language_info": {
      "name": "python"
    }
  },
  "nbformat": 4,
  "nbformat_minor": 0
}
